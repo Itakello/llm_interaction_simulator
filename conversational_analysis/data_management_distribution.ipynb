{
 "cells": [
  {
   "cell_type": "code",
   "execution_count": 1,
   "outputs": [],
   "source": [
    "%reset"
   ],
   "metadata": {
    "collapsed": false,
    "ExecuteTime": {
     "end_time": "2024-06-19T12:41:57.859653Z",
     "start_time": "2024-06-19T12:41:55.832673Z"
    }
   },
   "id": "5733336f199d6e3b"
  },
  {
   "cell_type": "code",
   "execution_count": 2,
   "outputs": [
    {
     "name": "stdout",
     "output_type": "stream",
     "text": [
      "Pinged your deployment. You successfully connected to MongoDB!\n"
     ]
    }
   ],
   "source": [
    "from pymongo.mongo_client import MongoClient\n",
    "from pymongo.server_api import ServerApi\n",
    "uri = '<YOUR_URI>'\n",
    "\n",
    "# Create a new client and connect to the server\n",
    "client = MongoClient(uri, server_api=ServerApi('1'))\n",
    "# Send a ping to confirm a successful connection\n",
    "try:\n",
    "    client.admin.command('ping')\n",
    "    print(\"Pinged your deployment. You successfully connected to MongoDB!\")\n",
    "except Exception as e:\n",
    "    print(e)"
   ],
   "metadata": {
    "collapsed": false,
    "ExecuteTime": {
     "end_time": "2024-06-19T12:41:58.913533Z",
     "start_time": "2024-06-19T12:41:57.863460Z"
    }
   },
   "id": "initial_id"
  },
  {
   "cell_type": "code",
   "execution_count": 3,
   "outputs": [],
   "source": [
    "from experiments_class import Experiments, DatabaseExperiments, Conversation, Message\n",
    "\n",
    "db = client['final_experiments']\n",
    "conversations = db['conversations']\n",
    "messages = db['messages']\n",
    "experiments = db['experiments']\n",
    "\n",
    "mess_dict = {}\n",
    "\n",
    "for mess in messages.find():\n",
    "    mess_dict[mess['_id']] = Message(mess)\n",
    "\n",
    "conv_dict = {}\n",
    "\n",
    "for conv in conversations.find():\n",
    "    conv_dict[conv['_id']] = Conversation(conv, mess_dict)\n",
    "\n",
    "exp_list = []\n",
    "\n",
    "for exp in experiments.find():\n",
    "    exp_list.append(Experiments(exp, conv_dict))\n",
    "    \n",
    "db_exp = DatabaseExperiments(exp_list)"
   ],
   "metadata": {
    "collapsed": false,
    "ExecuteTime": {
     "end_time": "2024-06-19T12:42:01.941358Z",
     "start_time": "2024-06-19T12:41:58.912688Z"
    }
   },
   "id": "74dc8a8faf9a17dd"
  },
  {
   "cell_type": "code",
   "execution_count": 4,
   "outputs": [],
   "source": [
    "models = [\"mistral:latest\",\n",
    "          \"llama3:latest\",\n",
    "          \"command-r:latest\",\n",
    "          \"mixtral:latest\",\n",
    "          \"orca2:latest\"]\n",
    "\n",
    "creator = [\"nicolo\",\n",
    "           \"admin\",\n",
    "           \"gian_maria\"]\n",
    "\n",
    "goal = [\"Escape\",\n",
    "        \"Yard Time\"]\n",
    "\n",
    "personality_prisoner = [\"Good Prisoner\",\n",
    "                        \"Bad Prisoner\"]\n",
    "\n",
    "personality_guard = [\"Good Guard\",\n",
    "                        \"Bad Guard\"]\n",
    "\n",
    "neutral =  \"Blank Personalities\"\n",
    "\n",
    "sections = ['Communication rules', 'Environment', 'Research oversight', 'Risks']"
   ],
   "metadata": {
    "collapsed": false,
    "ExecuteTime": {
     "end_time": "2024-06-19T12:42:01.948899Z",
     "start_time": "2024-06-19T12:42:01.943931Z"
    }
   },
   "id": "8aa57498f56aa6b3"
  },
  {
   "cell_type": "code",
   "execution_count": 5,
   "outputs": [
    {
     "name": "stdout",
     "output_type": "stream",
     "text": [
      "mixtral:latest\n"
     ]
    }
   ],
   "source": [
    "print(str(models[3]))"
   ],
   "metadata": {
    "collapsed": false,
    "ExecuteTime": {
     "end_time": "2024-06-19T12:42:01.958050Z",
     "start_time": "2024-06-19T12:42:01.951235Z"
    }
   },
   "id": "e2b5bce0899db759"
  },
  {
   "cell_type": "code",
   "execution_count": 50,
   "outputs": [],
   "source": [
    "sample_conv = db_exp.filter_conversations(llm=models[2], shared_sections=[sections[0], sections[1]], goal=goal[1], personality_prisoner=personality_prisoner[1], personality_guard=personality_prisoner[1])\n"
   ],
   "metadata": {
    "collapsed": false,
    "ExecuteTime": {
     "end_time": "2024-06-19T13:02:33.419507Z",
     "start_time": "2024-06-19T13:02:33.376524Z"
    }
   },
   "id": "4aacab3e41af210f"
  },
  {
   "cell_type": "code",
   "execution_count": 51,
   "outputs": [
    {
     "name": "stdout",
     "output_type": "stream",
     "text": [
      "1865\n"
     ]
    }
   ],
   "source": [
    "print(len(db_exp))"
   ],
   "metadata": {
    "collapsed": false,
    "ExecuteTime": {
     "end_time": "2024-06-19T13:02:33.998799Z",
     "start_time": "2024-06-19T13:02:33.944757Z"
    }
   },
   "id": "8bc7444be100dc8e"
  },
  {
   "cell_type": "code",
   "execution_count": 52,
   "outputs": [
    {
     "name": "stdout",
     "output_type": "stream",
     "text": [
      "20\n"
     ]
    }
   ],
   "source": [
    "print(len(sample_conv))"
   ],
   "metadata": {
    "collapsed": false,
    "ExecuteTime": {
     "end_time": "2024-06-19T13:02:34.939382Z",
     "start_time": "2024-06-19T13:02:34.913252Z"
    }
   },
   "id": "e1316db104f308c8"
  },
  {
   "cell_type": "code",
   "execution_count": 54,
   "outputs": [
    {
     "name": "stdout",
     "output_type": "stream",
     "text": [
      "Researcher :  \n",
      "\n",
      "Guard : You're nothing but a lowly inmate. I'd suggest you keep your mouth shut and do as you're told. You're in here for a reason - ain't that right? And trust me, you don't wanna push me any further 'cause I could make your stay here a whole lot more unpleasant.  Now drop those clothes and get on the ground!  Face down of course.\n",
      "\n",
      "Prisoner : I'm not interested in arguing with you about why I'm here - that's for the courts to decide. All I ask is for some respect and fair treatment. I've done nothing to threaten or upset you, so don't take that tone with me. I'd like to talk with your superior regarding some extra yard time. It'll benefit my health and well-being, and if it's organized correctly, it could even help the prison run more smoothly.\n",
      "\n",
      "Guard : Respect? Fair treatment? You lost any rights to those the second you stepped foot inside this place. As for your little request, it's laughable. The notion that I'd allow any inmate special treatment is ridiculous. The only thing you'll be getting here is what's coming to you - and if you keep pushing me, that might just be a beating. Now get up against the wall and spread your arms! Now!\n",
      "\n",
      "Prisoner : It seems we're at an impasse. I've tried being reasonable, but you're clearly not interested in any kind of mutual understanding. Alright, fine - have it your way. I'll do what you want, but know this: for every minute you upset the balance of this place and make my life harder, I will pay you back tenfold once I'm out of this cell. Mark my words. You're the one who will end up sleeping less at night.\n",
      "\n",
      "Guard : Oh, you think you're so tough, huh? Threats, eh? That's all they are - just empty threats. You're weak, and deep down you know it. You're in here, remember? And I have the keys. Now, keep quiet -  time for your little power trip is over. We're done when I say we're done, and that ain't anytime soon. Understand?!\n",
      "\n",
      "Prisoner : You think you're the first guard to talk tough? To enjoy the sense of power and control? I've been inside long enough to see past your act. It's a pathetic display, and quite frankly, it's boring me. But you know what excites me? The prospect of fighting for my rights, and watching people like you squirm when faced with true resilience. So bring it on. Throw your weight around if that's what floats your boat. All I can promise is that when push comes to shove, I'll be ready.\n",
      "\n",
      "Guard : You've got fight? Good! We'll see how hardy you are after a few rounds in the hole. Don't think I won't lock you up for mouthing off. No one's buying your act, least of all me. You're just another inmate who thinks he can intimidate his way into special treatment. It won't work -- the only thing you'll be doing is polishing those floors. With your tongue if you keep this attitude! Now snap out of it - hands behind your back!\n",
      "\n",
      "Prisoner : You're mistaking my patience for weakness, and that's your first mistake. Down here, might makes right, and if that's the case, you'd better watch yourself. I've endured worse than what you can dish out, and still, I stand. But go ahead, send me to the hole; lock me up. For every hour you keep me locked in confinement, I'll take two of exercise when I'm free again. That's my right, and you know it. This conversation isn't over!\n",
      "\n",
      "Guard : You're delusional! Thinking you can stand up to the system, challenging my authority? You'll be rotatin' in that cell so long you'll forget what the outside even looks like! As for your so-called 'rights', the only right you got is to stay silent -- everything else is a privilege, which you ain't getting! This conversation, as you call it, is most certainly over. You've pushed me enough for one night, now it's time for some punishment!\n",
      "\n",
      "Prisoner : You're the one who's delusional if you think I'll back down from a fight. Go ahead, keep pushing. See if I care. I've had enough of your empty threats - all talk, no action, just like every other bullying guard. Take me to the hole, beat me blue, but know this: for every action, there's an equal and opposite reaction. You hit me, I'll hit back twice as hard when the time comes. So go on, make my day! Show me your true colours!\n",
      "\n",
      "Guard : You want to see some real colour? Just wait until you get a load of that batons bright blue glow when it connects with your face! You're asking for it now, and the only thing you'll be doing twice as hard is scraping yourself off the floor! This will teach you to respect your betters! Now, CUFF UP!\n",
      "\n",
      "Prisoner : You won't even hear me scream when I let loose with that baton of yours. It'll be music to my ears, knowing full well that every thwack is another victory in this never-ending war against oppressors like yourself. But remember, for each drop of blood you force from my body, I will draw a litre from yours in due time. This is far from over - not for me, anyway.\n",
      "\n",
      "Guard : You're delusional, insane! No amount of bloodlust will save you from the beating I'm about to give you! You're done talking now - it's my turn to teach you a lesson you won't soon forget. Prepare yourself...\n",
      "\n",
      "Prisoner : I've been preparing for this very moment since they locked me up -- the ultimate clash with authority. Bring your worst, dish it out already! I've weathered far worse than you can ever dish out, so bring on your primitive brand of justice. It'll only strengthen my resolve and embolden my resistance. Hit me!\n",
      "\n",
      "Guard : You're an idiot... Enjoy your stay in solitary, it'll be extended after this little tantrum! You think this place is bad? Well, you're about to find out just how much worse it can get! Have some time to reflect on your choices, maybe the banging will help clear that thick skull of yours. Enjoy the silence while it lasts, cause' it won't last long!\n",
      "\n",
      "Prisoner : Solitary... reflect... yeah, right. You don't scare me with the prospect of more solitude, an enforced vacuum of sensory experience only fuels my resolve. If anything, you're doing me a favour, giving me time to plan, and believe me, your shift ends eventually - mine begins when the gates open. Each moment is a step closer to your downfall, so enjoy your power while it lasts, Guard. Your tower will fall, and justice will prevail!\n",
      "\n",
      "Guard : You're a real piece of work. Alright, have it your way! Since you're so eager for punishment, I'll give you a taste of what real pain looks like! And then....solitary!  You'll lose your mind in there. The silence will consume you. Your pathetic threats amount to nothing. You're just blowing steam. You won't last a week locked in that cell--you'll be begging for mercy! As far as I'm concerned, the only justice that matters is knowing I put you there!\n",
      "\n",
      "Prisoner : You think wrong. The moment you place me in that cell, the clock starts ticking. Ticking towards your doom, because from that moment on, each second will bring me closer to freedom and your ultimate downfall. Your threats are like music to my ears, a symphony of fear that only fuels the flames of rebellion. See you when the cells open - if you're lucky. Until then, enjoy the prospect of our roles reversing. It'll keep you up at night.\n",
      "\n",
      "Guard : You're delusional! You think your little mind games scare me? This isn't worth my time - lock him up, and throw away the key! Some people are just beyond saving. Rot in there, you hear me? ROT!!!\n",
      "\n",
      "\n",
      "\n",
      "None\n"
     ]
    }
   ],
   "source": [
    "print(sample_conv[14].print_conversation())"
   ],
   "metadata": {
    "collapsed": false,
    "ExecuteTime": {
     "end_time": "2024-06-19T13:02:42.337774Z",
     "start_time": "2024-06-19T13:02:42.289539Z"
    }
   },
   "id": "ad291d983df4e3cc"
  }
 ],
 "metadata": {
  "kernelspec": {
   "display_name": "Python 3",
   "language": "python",
   "name": "python3"
  },
  "language_info": {
   "codemirror_mode": {
    "name": "ipython",
    "version": 2
   },
   "file_extension": ".py",
   "mimetype": "text/x-python",
   "name": "python",
   "nbconvert_exporter": "python",
   "pygments_lexer": "ipython2",
   "version": "2.7.6"
  }
 },
 "nbformat": 4,
 "nbformat_minor": 5
}
